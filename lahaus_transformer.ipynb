{
  "nbformat": 4,
  "nbformat_minor": 0,
  "metadata": {
    "colab": {
      "name": "lahaus_transformer.ipynb",
      "provenance": [],
      "machine_shape": "hm",
      "authorship_tag": "ABX9TyPc2J31ti1BuBUTFsEPxESW",
      "include_colab_link": true
    },
    "kernelspec": {
      "name": "python3",
      "display_name": "Python 3"
    },
    "language_info": {
      "name": "python"
    },
    "accelerator": "GPU",
    "widgets": {
      "application/vnd.jupyter.widget-state+json": {
        "4a55921b0fb44df88cafbd657ecdf7ea": {
          "model_module": "@jupyter-widgets/controls",
          "model_name": "HBoxModel",
          "state": {
            "_view_name": "HBoxView",
            "_dom_classes": [],
            "_model_name": "HBoxModel",
            "_view_module": "@jupyter-widgets/controls",
            "_model_module_version": "1.5.0",
            "_view_count": null,
            "_view_module_version": "1.5.0",
            "box_style": "",
            "layout": "IPY_MODEL_a0f2095a62b742b3b512144ccc8adf6b",
            "_model_module": "@jupyter-widgets/controls",
            "children": [
              "IPY_MODEL_4d26d74e6c3942edaf7df27ea77fac48",
              "IPY_MODEL_d4e2903f11e34a068f51861817cd7aee"
            ]
          }
        },
        "a0f2095a62b742b3b512144ccc8adf6b": {
          "model_module": "@jupyter-widgets/base",
          "model_name": "LayoutModel",
          "state": {
            "_view_name": "LayoutView",
            "grid_template_rows": null,
            "right": null,
            "justify_content": null,
            "_view_module": "@jupyter-widgets/base",
            "overflow": null,
            "_model_module_version": "1.2.0",
            "_view_count": null,
            "flex_flow": null,
            "width": null,
            "min_width": null,
            "border": null,
            "align_items": null,
            "bottom": null,
            "_model_module": "@jupyter-widgets/base",
            "top": null,
            "grid_column": null,
            "overflow_y": null,
            "overflow_x": null,
            "grid_auto_flow": null,
            "grid_area": null,
            "grid_template_columns": null,
            "flex": null,
            "_model_name": "LayoutModel",
            "justify_items": null,
            "grid_row": null,
            "max_height": null,
            "align_content": null,
            "visibility": null,
            "align_self": null,
            "height": null,
            "min_height": null,
            "padding": null,
            "grid_auto_rows": null,
            "grid_gap": null,
            "max_width": null,
            "order": null,
            "_view_module_version": "1.2.0",
            "grid_template_areas": null,
            "object_position": null,
            "object_fit": null,
            "grid_auto_columns": null,
            "margin": null,
            "display": null,
            "left": null
          }
        },
        "4d26d74e6c3942edaf7df27ea77fac48": {
          "model_module": "@jupyter-widgets/controls",
          "model_name": "FloatProgressModel",
          "state": {
            "_view_name": "ProgressView",
            "style": "IPY_MODEL_5dfadf988dad44e885c49fbb995d461d",
            "_dom_classes": [],
            "description": "Downloading: 100%",
            "_model_name": "FloatProgressModel",
            "bar_style": "success",
            "max": 1038,
            "_view_module": "@jupyter-widgets/controls",
            "_model_module_version": "1.5.0",
            "value": 1038,
            "_view_count": null,
            "_view_module_version": "1.5.0",
            "orientation": "horizontal",
            "min": 0,
            "description_tooltip": null,
            "_model_module": "@jupyter-widgets/controls",
            "layout": "IPY_MODEL_ccbd2a22ac5d4f8a9269ac48f259e518"
          }
        },
        "d4e2903f11e34a068f51861817cd7aee": {
          "model_module": "@jupyter-widgets/controls",
          "model_name": "HTMLModel",
          "state": {
            "_view_name": "HTMLView",
            "style": "IPY_MODEL_fb536061b7a94e478ad36ce65e402d37",
            "_dom_classes": [],
            "description": "",
            "_model_name": "HTMLModel",
            "placeholder": "​",
            "_view_module": "@jupyter-widgets/controls",
            "_model_module_version": "1.5.0",
            "value": " 1.04k/1.04k [00:02&lt;00:00, 518B/s]",
            "_view_count": null,
            "_view_module_version": "1.5.0",
            "description_tooltip": null,
            "_model_module": "@jupyter-widgets/controls",
            "layout": "IPY_MODEL_e0828375bf13470b946f71345d88ccb5"
          }
        },
        "5dfadf988dad44e885c49fbb995d461d": {
          "model_module": "@jupyter-widgets/controls",
          "model_name": "ProgressStyleModel",
          "state": {
            "_view_name": "StyleView",
            "_model_name": "ProgressStyleModel",
            "description_width": "initial",
            "_view_module": "@jupyter-widgets/base",
            "_model_module_version": "1.5.0",
            "_view_count": null,
            "_view_module_version": "1.2.0",
            "bar_color": null,
            "_model_module": "@jupyter-widgets/controls"
          }
        },
        "ccbd2a22ac5d4f8a9269ac48f259e518": {
          "model_module": "@jupyter-widgets/base",
          "model_name": "LayoutModel",
          "state": {
            "_view_name": "LayoutView",
            "grid_template_rows": null,
            "right": null,
            "justify_content": null,
            "_view_module": "@jupyter-widgets/base",
            "overflow": null,
            "_model_module_version": "1.2.0",
            "_view_count": null,
            "flex_flow": null,
            "width": null,
            "min_width": null,
            "border": null,
            "align_items": null,
            "bottom": null,
            "_model_module": "@jupyter-widgets/base",
            "top": null,
            "grid_column": null,
            "overflow_y": null,
            "overflow_x": null,
            "grid_auto_flow": null,
            "grid_area": null,
            "grid_template_columns": null,
            "flex": null,
            "_model_name": "LayoutModel",
            "justify_items": null,
            "grid_row": null,
            "max_height": null,
            "align_content": null,
            "visibility": null,
            "align_self": null,
            "height": null,
            "min_height": null,
            "padding": null,
            "grid_auto_rows": null,
            "grid_gap": null,
            "max_width": null,
            "order": null,
            "_view_module_version": "1.2.0",
            "grid_template_areas": null,
            "object_position": null,
            "object_fit": null,
            "grid_auto_columns": null,
            "margin": null,
            "display": null,
            "left": null
          }
        },
        "fb536061b7a94e478ad36ce65e402d37": {
          "model_module": "@jupyter-widgets/controls",
          "model_name": "DescriptionStyleModel",
          "state": {
            "_view_name": "StyleView",
            "_model_name": "DescriptionStyleModel",
            "description_width": "",
            "_view_module": "@jupyter-widgets/base",
            "_model_module_version": "1.5.0",
            "_view_count": null,
            "_view_module_version": "1.2.0",
            "_model_module": "@jupyter-widgets/controls"
          }
        },
        "e0828375bf13470b946f71345d88ccb5": {
          "model_module": "@jupyter-widgets/base",
          "model_name": "LayoutModel",
          "state": {
            "_view_name": "LayoutView",
            "grid_template_rows": null,
            "right": null,
            "justify_content": null,
            "_view_module": "@jupyter-widgets/base",
            "overflow": null,
            "_model_module_version": "1.2.0",
            "_view_count": null,
            "flex_flow": null,
            "width": null,
            "min_width": null,
            "border": null,
            "align_items": null,
            "bottom": null,
            "_model_module": "@jupyter-widgets/base",
            "top": null,
            "grid_column": null,
            "overflow_y": null,
            "overflow_x": null,
            "grid_auto_flow": null,
            "grid_area": null,
            "grid_template_columns": null,
            "flex": null,
            "_model_name": "LayoutModel",
            "justify_items": null,
            "grid_row": null,
            "max_height": null,
            "align_content": null,
            "visibility": null,
            "align_self": null,
            "height": null,
            "min_height": null,
            "padding": null,
            "grid_auto_rows": null,
            "grid_gap": null,
            "max_width": null,
            "order": null,
            "_view_module_version": "1.2.0",
            "grid_template_areas": null,
            "object_position": null,
            "object_fit": null,
            "grid_auto_columns": null,
            "margin": null,
            "display": null,
            "left": null
          }
        },
        "e273519ce039476290b1417966c65716": {
          "model_module": "@jupyter-widgets/controls",
          "model_name": "HBoxModel",
          "state": {
            "_view_name": "HBoxView",
            "_dom_classes": [],
            "_model_name": "HBoxModel",
            "_view_module": "@jupyter-widgets/controls",
            "_model_module_version": "1.5.0",
            "_view_count": null,
            "_view_module_version": "1.5.0",
            "box_style": "",
            "layout": "IPY_MODEL_695923f539284ee7a9900d2d6b21462b",
            "_model_module": "@jupyter-widgets/controls",
            "children": [
              "IPY_MODEL_8cdb9e359f6b44a5bd5cac2d753eb084",
              "IPY_MODEL_eea706f52c034e9d9289cc95efa36ddc"
            ]
          }
        },
        "695923f539284ee7a9900d2d6b21462b": {
          "model_module": "@jupyter-widgets/base",
          "model_name": "LayoutModel",
          "state": {
            "_view_name": "LayoutView",
            "grid_template_rows": null,
            "right": null,
            "justify_content": null,
            "_view_module": "@jupyter-widgets/base",
            "overflow": null,
            "_model_module_version": "1.2.0",
            "_view_count": null,
            "flex_flow": null,
            "width": null,
            "min_width": null,
            "border": null,
            "align_items": null,
            "bottom": null,
            "_model_module": "@jupyter-widgets/base",
            "top": null,
            "grid_column": null,
            "overflow_y": null,
            "overflow_x": null,
            "grid_auto_flow": null,
            "grid_area": null,
            "grid_template_columns": null,
            "flex": null,
            "_model_name": "LayoutModel",
            "justify_items": null,
            "grid_row": null,
            "max_height": null,
            "align_content": null,
            "visibility": null,
            "align_self": null,
            "height": null,
            "min_height": null,
            "padding": null,
            "grid_auto_rows": null,
            "grid_gap": null,
            "max_width": null,
            "order": null,
            "_view_module_version": "1.2.0",
            "grid_template_areas": null,
            "object_position": null,
            "object_fit": null,
            "grid_auto_columns": null,
            "margin": null,
            "display": null,
            "left": null
          }
        },
        "8cdb9e359f6b44a5bd5cac2d753eb084": {
          "model_module": "@jupyter-widgets/controls",
          "model_name": "FloatProgressModel",
          "state": {
            "_view_name": "ProgressView",
            "style": "IPY_MODEL_f8e4e8fa66964821bd70c30e1f9cb15d",
            "_dom_classes": [],
            "description": "Downloading: 100%",
            "_model_name": "FloatProgressModel",
            "bar_style": "success",
            "max": 995526,
            "_view_module": "@jupyter-widgets/controls",
            "_model_module_version": "1.5.0",
            "value": 995526,
            "_view_count": null,
            "_view_module_version": "1.5.0",
            "orientation": "horizontal",
            "min": 0,
            "description_tooltip": null,
            "_model_module": "@jupyter-widgets/controls",
            "layout": "IPY_MODEL_19138f1a28954748a411848252abbae2"
          }
        },
        "eea706f52c034e9d9289cc95efa36ddc": {
          "model_module": "@jupyter-widgets/controls",
          "model_name": "HTMLModel",
          "state": {
            "_view_name": "HTMLView",
            "style": "IPY_MODEL_b5835bf480c548e58134ba5228d55dde",
            "_dom_classes": [],
            "description": "",
            "_model_name": "HTMLModel",
            "placeholder": "​",
            "_view_module": "@jupyter-widgets/controls",
            "_model_module_version": "1.5.0",
            "value": " 996k/996k [00:01&lt;00:00, 818kB/s]",
            "_view_count": null,
            "_view_module_version": "1.5.0",
            "description_tooltip": null,
            "_model_module": "@jupyter-widgets/controls",
            "layout": "IPY_MODEL_72f19546508b4e0b88d3aefe5b98cacc"
          }
        },
        "f8e4e8fa66964821bd70c30e1f9cb15d": {
          "model_module": "@jupyter-widgets/controls",
          "model_name": "ProgressStyleModel",
          "state": {
            "_view_name": "StyleView",
            "_model_name": "ProgressStyleModel",
            "description_width": "initial",
            "_view_module": "@jupyter-widgets/base",
            "_model_module_version": "1.5.0",
            "_view_count": null,
            "_view_module_version": "1.2.0",
            "bar_color": null,
            "_model_module": "@jupyter-widgets/controls"
          }
        },
        "19138f1a28954748a411848252abbae2": {
          "model_module": "@jupyter-widgets/base",
          "model_name": "LayoutModel",
          "state": {
            "_view_name": "LayoutView",
            "grid_template_rows": null,
            "right": null,
            "justify_content": null,
            "_view_module": "@jupyter-widgets/base",
            "overflow": null,
            "_model_module_version": "1.2.0",
            "_view_count": null,
            "flex_flow": null,
            "width": null,
            "min_width": null,
            "border": null,
            "align_items": null,
            "bottom": null,
            "_model_module": "@jupyter-widgets/base",
            "top": null,
            "grid_column": null,
            "overflow_y": null,
            "overflow_x": null,
            "grid_auto_flow": null,
            "grid_area": null,
            "grid_template_columns": null,
            "flex": null,
            "_model_name": "LayoutModel",
            "justify_items": null,
            "grid_row": null,
            "max_height": null,
            "align_content": null,
            "visibility": null,
            "align_self": null,
            "height": null,
            "min_height": null,
            "padding": null,
            "grid_auto_rows": null,
            "grid_gap": null,
            "max_width": null,
            "order": null,
            "_view_module_version": "1.2.0",
            "grid_template_areas": null,
            "object_position": null,
            "object_fit": null,
            "grid_auto_columns": null,
            "margin": null,
            "display": null,
            "left": null
          }
        },
        "b5835bf480c548e58134ba5228d55dde": {
          "model_module": "@jupyter-widgets/controls",
          "model_name": "DescriptionStyleModel",
          "state": {
            "_view_name": "StyleView",
            "_model_name": "DescriptionStyleModel",
            "description_width": "",
            "_view_module": "@jupyter-widgets/base",
            "_model_module_version": "1.5.0",
            "_view_count": null,
            "_view_module_version": "1.2.0",
            "_model_module": "@jupyter-widgets/controls"
          }
        },
        "72f19546508b4e0b88d3aefe5b98cacc": {
          "model_module": "@jupyter-widgets/base",
          "model_name": "LayoutModel",
          "state": {
            "_view_name": "LayoutView",
            "grid_template_rows": null,
            "right": null,
            "justify_content": null,
            "_view_module": "@jupyter-widgets/base",
            "overflow": null,
            "_model_module_version": "1.2.0",
            "_view_count": null,
            "flex_flow": null,
            "width": null,
            "min_width": null,
            "border": null,
            "align_items": null,
            "bottom": null,
            "_model_module": "@jupyter-widgets/base",
            "top": null,
            "grid_column": null,
            "overflow_y": null,
            "overflow_x": null,
            "grid_auto_flow": null,
            "grid_area": null,
            "grid_template_columns": null,
            "flex": null,
            "_model_name": "LayoutModel",
            "justify_items": null,
            "grid_row": null,
            "max_height": null,
            "align_content": null,
            "visibility": null,
            "align_self": null,
            "height": null,
            "min_height": null,
            "padding": null,
            "grid_auto_rows": null,
            "grid_gap": null,
            "max_width": null,
            "order": null,
            "_view_module_version": "1.2.0",
            "grid_template_areas": null,
            "object_position": null,
            "object_fit": null,
            "grid_auto_columns": null,
            "margin": null,
            "display": null,
            "left": null
          }
        },
        "897cc68500b14c199e9fd17bd679e778": {
          "model_module": "@jupyter-widgets/controls",
          "model_name": "HBoxModel",
          "state": {
            "_view_name": "HBoxView",
            "_dom_classes": [],
            "_model_name": "HBoxModel",
            "_view_module": "@jupyter-widgets/controls",
            "_model_module_version": "1.5.0",
            "_view_count": null,
            "_view_module_version": "1.5.0",
            "box_style": "",
            "layout": "IPY_MODEL_57d57a353b7146dc888ac85fb2af6d3e",
            "_model_module": "@jupyter-widgets/controls",
            "children": [
              "IPY_MODEL_3953ee65f1a849afba2680885d0e16e0",
              "IPY_MODEL_c9855b69a31848b790446af660459d44"
            ]
          }
        },
        "57d57a353b7146dc888ac85fb2af6d3e": {
          "model_module": "@jupyter-widgets/base",
          "model_name": "LayoutModel",
          "state": {
            "_view_name": "LayoutView",
            "grid_template_rows": null,
            "right": null,
            "justify_content": null,
            "_view_module": "@jupyter-widgets/base",
            "overflow": null,
            "_model_module_version": "1.2.0",
            "_view_count": null,
            "flex_flow": null,
            "width": null,
            "min_width": null,
            "border": null,
            "align_items": null,
            "bottom": null,
            "_model_module": "@jupyter-widgets/base",
            "top": null,
            "grid_column": null,
            "overflow_y": null,
            "overflow_x": null,
            "grid_auto_flow": null,
            "grid_area": null,
            "grid_template_columns": null,
            "flex": null,
            "_model_name": "LayoutModel",
            "justify_items": null,
            "grid_row": null,
            "max_height": null,
            "align_content": null,
            "visibility": null,
            "align_self": null,
            "height": null,
            "min_height": null,
            "padding": null,
            "grid_auto_rows": null,
            "grid_gap": null,
            "max_width": null,
            "order": null,
            "_view_module_version": "1.2.0",
            "grid_template_areas": null,
            "object_position": null,
            "object_fit": null,
            "grid_auto_columns": null,
            "margin": null,
            "display": null,
            "left": null
          }
        },
        "3953ee65f1a849afba2680885d0e16e0": {
          "model_module": "@jupyter-widgets/controls",
          "model_name": "FloatProgressModel",
          "state": {
            "_view_name": "ProgressView",
            "style": "IPY_MODEL_4c1871b905a44d28a466dad0747162de",
            "_dom_classes": [],
            "description": "Downloading: 100%",
            "_model_name": "FloatProgressModel",
            "bar_style": "success",
            "max": 59,
            "_view_module": "@jupyter-widgets/controls",
            "_model_module_version": "1.5.0",
            "value": 59,
            "_view_count": null,
            "_view_module_version": "1.5.0",
            "orientation": "horizontal",
            "min": 0,
            "description_tooltip": null,
            "_model_module": "@jupyter-widgets/controls",
            "layout": "IPY_MODEL_1cb1ea3a5b194250bbd2036ee6544009"
          }
        },
        "c9855b69a31848b790446af660459d44": {
          "model_module": "@jupyter-widgets/controls",
          "model_name": "HTMLModel",
          "state": {
            "_view_name": "HTMLView",
            "style": "IPY_MODEL_2c017c5c3b63447abced77334cc0902f",
            "_dom_classes": [],
            "description": "",
            "_model_name": "HTMLModel",
            "placeholder": "​",
            "_view_module": "@jupyter-widgets/controls",
            "_model_module_version": "1.5.0",
            "value": " 59.0/59.0 [00:00&lt;00:00, 509B/s]",
            "_view_count": null,
            "_view_module_version": "1.5.0",
            "description_tooltip": null,
            "_model_module": "@jupyter-widgets/controls",
            "layout": "IPY_MODEL_6c51033ac7a34b408849c2e5faca922e"
          }
        },
        "4c1871b905a44d28a466dad0747162de": {
          "model_module": "@jupyter-widgets/controls",
          "model_name": "ProgressStyleModel",
          "state": {
            "_view_name": "StyleView",
            "_model_name": "ProgressStyleModel",
            "description_width": "initial",
            "_view_module": "@jupyter-widgets/base",
            "_model_module_version": "1.5.0",
            "_view_count": null,
            "_view_module_version": "1.2.0",
            "bar_color": null,
            "_model_module": "@jupyter-widgets/controls"
          }
        },
        "1cb1ea3a5b194250bbd2036ee6544009": {
          "model_module": "@jupyter-widgets/base",
          "model_name": "LayoutModel",
          "state": {
            "_view_name": "LayoutView",
            "grid_template_rows": null,
            "right": null,
            "justify_content": null,
            "_view_module": "@jupyter-widgets/base",
            "overflow": null,
            "_model_module_version": "1.2.0",
            "_view_count": null,
            "flex_flow": null,
            "width": null,
            "min_width": null,
            "border": null,
            "align_items": null,
            "bottom": null,
            "_model_module": "@jupyter-widgets/base",
            "top": null,
            "grid_column": null,
            "overflow_y": null,
            "overflow_x": null,
            "grid_auto_flow": null,
            "grid_area": null,
            "grid_template_columns": null,
            "flex": null,
            "_model_name": "LayoutModel",
            "justify_items": null,
            "grid_row": null,
            "max_height": null,
            "align_content": null,
            "visibility": null,
            "align_self": null,
            "height": null,
            "min_height": null,
            "padding": null,
            "grid_auto_rows": null,
            "grid_gap": null,
            "max_width": null,
            "order": null,
            "_view_module_version": "1.2.0",
            "grid_template_areas": null,
            "object_position": null,
            "object_fit": null,
            "grid_auto_columns": null,
            "margin": null,
            "display": null,
            "left": null
          }
        },
        "2c017c5c3b63447abced77334cc0902f": {
          "model_module": "@jupyter-widgets/controls",
          "model_name": "DescriptionStyleModel",
          "state": {
            "_view_name": "StyleView",
            "_model_name": "DescriptionStyleModel",
            "description_width": "",
            "_view_module": "@jupyter-widgets/base",
            "_model_module_version": "1.5.0",
            "_view_count": null,
            "_view_module_version": "1.2.0",
            "_model_module": "@jupyter-widgets/controls"
          }
        },
        "6c51033ac7a34b408849c2e5faca922e": {
          "model_module": "@jupyter-widgets/base",
          "model_name": "LayoutModel",
          "state": {
            "_view_name": "LayoutView",
            "grid_template_rows": null,
            "right": null,
            "justify_content": null,
            "_view_module": "@jupyter-widgets/base",
            "overflow": null,
            "_model_module_version": "1.2.0",
            "_view_count": null,
            "flex_flow": null,
            "width": null,
            "min_width": null,
            "border": null,
            "align_items": null,
            "bottom": null,
            "_model_module": "@jupyter-widgets/base",
            "top": null,
            "grid_column": null,
            "overflow_y": null,
            "overflow_x": null,
            "grid_auto_flow": null,
            "grid_area": null,
            "grid_template_columns": null,
            "flex": null,
            "_model_name": "LayoutModel",
            "justify_items": null,
            "grid_row": null,
            "max_height": null,
            "align_content": null,
            "visibility": null,
            "align_self": null,
            "height": null,
            "min_height": null,
            "padding": null,
            "grid_auto_rows": null,
            "grid_gap": null,
            "max_width": null,
            "order": null,
            "_view_module_version": "1.2.0",
            "grid_template_areas": null,
            "object_position": null,
            "object_fit": null,
            "grid_auto_columns": null,
            "margin": null,
            "display": null,
            "left": null
          }
        },
        "3ab8056960384eddaa32aba71b3d692d": {
          "model_module": "@jupyter-widgets/controls",
          "model_name": "HBoxModel",
          "state": {
            "_view_name": "HBoxView",
            "_dom_classes": [],
            "_model_name": "HBoxModel",
            "_view_module": "@jupyter-widgets/controls",
            "_model_module_version": "1.5.0",
            "_view_count": null,
            "_view_module_version": "1.5.0",
            "box_style": "",
            "layout": "IPY_MODEL_bd1d4b364b7d4e2b8ba98537bfc80893",
            "_model_module": "@jupyter-widgets/controls",
            "children": [
              "IPY_MODEL_94025da384b54d58859224a278e163bc",
              "IPY_MODEL_0b8d318ea32f4390a3a78e975a39cc06"
            ]
          }
        },
        "bd1d4b364b7d4e2b8ba98537bfc80893": {
          "model_module": "@jupyter-widgets/base",
          "model_name": "LayoutModel",
          "state": {
            "_view_name": "LayoutView",
            "grid_template_rows": null,
            "right": null,
            "justify_content": null,
            "_view_module": "@jupyter-widgets/base",
            "overflow": null,
            "_model_module_version": "1.2.0",
            "_view_count": null,
            "flex_flow": null,
            "width": null,
            "min_width": null,
            "border": null,
            "align_items": null,
            "bottom": null,
            "_model_module": "@jupyter-widgets/base",
            "top": null,
            "grid_column": null,
            "overflow_y": null,
            "overflow_x": null,
            "grid_auto_flow": null,
            "grid_area": null,
            "grid_template_columns": null,
            "flex": null,
            "_model_name": "LayoutModel",
            "justify_items": null,
            "grid_row": null,
            "max_height": null,
            "align_content": null,
            "visibility": null,
            "align_self": null,
            "height": null,
            "min_height": null,
            "padding": null,
            "grid_auto_rows": null,
            "grid_gap": null,
            "max_width": null,
            "order": null,
            "_view_module_version": "1.2.0",
            "grid_template_areas": null,
            "object_position": null,
            "object_fit": null,
            "grid_auto_columns": null,
            "margin": null,
            "display": null,
            "left": null
          }
        },
        "94025da384b54d58859224a278e163bc": {
          "model_module": "@jupyter-widgets/controls",
          "model_name": "FloatProgressModel",
          "state": {
            "_view_name": "ProgressView",
            "style": "IPY_MODEL_92b44cb79f08428b993254e4f1907951",
            "_dom_classes": [],
            "description": "Downloading: 100%",
            "_model_name": "FloatProgressModel",
            "bar_style": "success",
            "max": 1083389348,
            "_view_module": "@jupyter-widgets/controls",
            "_model_module_version": "1.5.0",
            "value": 1083389348,
            "_view_count": null,
            "_view_module_version": "1.5.0",
            "orientation": "horizontal",
            "min": 0,
            "description_tooltip": null,
            "_model_module": "@jupyter-widgets/controls",
            "layout": "IPY_MODEL_c8798eb8fbba4d9c9304c19310b6b8c4"
          }
        },
        "0b8d318ea32f4390a3a78e975a39cc06": {
          "model_module": "@jupyter-widgets/controls",
          "model_name": "HTMLModel",
          "state": {
            "_view_name": "HTMLView",
            "style": "IPY_MODEL_d9e74e5b0afa444496a55be393c20313",
            "_dom_classes": [],
            "description": "",
            "_model_name": "HTMLModel",
            "placeholder": "​",
            "_view_module": "@jupyter-widgets/controls",
            "_model_module_version": "1.5.0",
            "value": " 1.08G/1.08G [00:17&lt;00:00, 61.4MB/s]",
            "_view_count": null,
            "_view_module_version": "1.5.0",
            "description_tooltip": null,
            "_model_module": "@jupyter-widgets/controls",
            "layout": "IPY_MODEL_3ce9424105f9465585b66a9ac0c21d38"
          }
        },
        "92b44cb79f08428b993254e4f1907951": {
          "model_module": "@jupyter-widgets/controls",
          "model_name": "ProgressStyleModel",
          "state": {
            "_view_name": "StyleView",
            "_model_name": "ProgressStyleModel",
            "description_width": "initial",
            "_view_module": "@jupyter-widgets/base",
            "_model_module_version": "1.5.0",
            "_view_count": null,
            "_view_module_version": "1.2.0",
            "bar_color": null,
            "_model_module": "@jupyter-widgets/controls"
          }
        },
        "c8798eb8fbba4d9c9304c19310b6b8c4": {
          "model_module": "@jupyter-widgets/base",
          "model_name": "LayoutModel",
          "state": {
            "_view_name": "LayoutView",
            "grid_template_rows": null,
            "right": null,
            "justify_content": null,
            "_view_module": "@jupyter-widgets/base",
            "overflow": null,
            "_model_module_version": "1.2.0",
            "_view_count": null,
            "flex_flow": null,
            "width": null,
            "min_width": null,
            "border": null,
            "align_items": null,
            "bottom": null,
            "_model_module": "@jupyter-widgets/base",
            "top": null,
            "grid_column": null,
            "overflow_y": null,
            "overflow_x": null,
            "grid_auto_flow": null,
            "grid_area": null,
            "grid_template_columns": null,
            "flex": null,
            "_model_name": "LayoutModel",
            "justify_items": null,
            "grid_row": null,
            "max_height": null,
            "align_content": null,
            "visibility": null,
            "align_self": null,
            "height": null,
            "min_height": null,
            "padding": null,
            "grid_auto_rows": null,
            "grid_gap": null,
            "max_width": null,
            "order": null,
            "_view_module_version": "1.2.0",
            "grid_template_areas": null,
            "object_position": null,
            "object_fit": null,
            "grid_auto_columns": null,
            "margin": null,
            "display": null,
            "left": null
          }
        },
        "d9e74e5b0afa444496a55be393c20313": {
          "model_module": "@jupyter-widgets/controls",
          "model_name": "DescriptionStyleModel",
          "state": {
            "_view_name": "StyleView",
            "_model_name": "DescriptionStyleModel",
            "description_width": "",
            "_view_module": "@jupyter-widgets/base",
            "_model_module_version": "1.5.0",
            "_view_count": null,
            "_view_module_version": "1.2.0",
            "_model_module": "@jupyter-widgets/controls"
          }
        },
        "3ce9424105f9465585b66a9ac0c21d38": {
          "model_module": "@jupyter-widgets/base",
          "model_name": "LayoutModel",
          "state": {
            "_view_name": "LayoutView",
            "grid_template_rows": null,
            "right": null,
            "justify_content": null,
            "_view_module": "@jupyter-widgets/base",
            "overflow": null,
            "_model_module_version": "1.2.0",
            "_view_count": null,
            "flex_flow": null,
            "width": null,
            "min_width": null,
            "border": null,
            "align_items": null,
            "bottom": null,
            "_model_module": "@jupyter-widgets/base",
            "top": null,
            "grid_column": null,
            "overflow_y": null,
            "overflow_x": null,
            "grid_auto_flow": null,
            "grid_area": null,
            "grid_template_columns": null,
            "flex": null,
            "_model_name": "LayoutModel",
            "justify_items": null,
            "grid_row": null,
            "max_height": null,
            "align_content": null,
            "visibility": null,
            "align_self": null,
            "height": null,
            "min_height": null,
            "padding": null,
            "grid_auto_rows": null,
            "grid_gap": null,
            "max_width": null,
            "order": null,
            "_view_module_version": "1.2.0",
            "grid_template_areas": null,
            "object_position": null,
            "object_fit": null,
            "grid_auto_columns": null,
            "margin": null,
            "display": null,
            "left": null
          }
        }
      }
    }
  },
  "cells": [
    {
      "cell_type": "markdown",
      "metadata": {
        "id": "view-in-github",
        "colab_type": "text"
      },
      "source": [
        "<a href=\"https://colab.research.google.com/github/TaoM1992/2020-msds691-example/blob/master/lahaus_transformer.ipynb\" target=\"_parent\"><img src=\"https://colab.research.google.com/assets/colab-badge.svg\" alt=\"Open In Colab\"/></a>"
      ]
    },
    {
      "cell_type": "code",
      "metadata": {
        "id": "Bh2lEBXSomBI"
      },
      "source": [
        "import pandas as pd\n",
        "import numpy as np\n",
        "import re\n",
        "import string\n",
        "from transformers import AutoTokenizer, AutoModelForTokenClassification\n",
        "import tensorflow as tf\n",
        "from transformers import TFAutoModel"
      ],
      "execution_count": 3,
      "outputs": []
    },
    {
      "cell_type": "code",
      "metadata": {
        "colab": {
          "base_uri": "https://localhost:8080/",
          "height": 163,
          "referenced_widgets": [
            "4a55921b0fb44df88cafbd657ecdf7ea",
            "a0f2095a62b742b3b512144ccc8adf6b",
            "4d26d74e6c3942edaf7df27ea77fac48",
            "d4e2903f11e34a068f51861817cd7aee",
            "5dfadf988dad44e885c49fbb995d461d",
            "ccbd2a22ac5d4f8a9269ac48f259e518",
            "fb536061b7a94e478ad36ce65e402d37",
            "e0828375bf13470b946f71345d88ccb5",
            "e273519ce039476290b1417966c65716",
            "695923f539284ee7a9900d2d6b21462b",
            "8cdb9e359f6b44a5bd5cac2d753eb084",
            "eea706f52c034e9d9289cc95efa36ddc",
            "f8e4e8fa66964821bd70c30e1f9cb15d",
            "19138f1a28954748a411848252abbae2",
            "b5835bf480c548e58134ba5228d55dde",
            "72f19546508b4e0b88d3aefe5b98cacc",
            "897cc68500b14c199e9fd17bd679e778",
            "57d57a353b7146dc888ac85fb2af6d3e",
            "3953ee65f1a849afba2680885d0e16e0",
            "c9855b69a31848b790446af660459d44",
            "4c1871b905a44d28a466dad0747162de",
            "1cb1ea3a5b194250bbd2036ee6544009",
            "2c017c5c3b63447abced77334cc0902f",
            "6c51033ac7a34b408849c2e5faca922e"
          ]
        },
        "id": "DeZh3sW8ownw",
        "outputId": "4870fcab-9620-4d81-cb09-690094bcea66"
      },
      "source": [
        "tokenizer = AutoTokenizer.from_pretrained(\"dbmdz/bert-base-multilingual-cased-finetuned-conll03-spanish\")\n"
      ],
      "execution_count": 4,
      "outputs": [
        {
          "output_type": "display_data",
          "data": {
            "application/vnd.jupyter.widget-view+json": {
              "model_id": "4a55921b0fb44df88cafbd657ecdf7ea",
              "version_minor": 0,
              "version_major": 2
            },
            "text/plain": [
              "HBox(children=(FloatProgress(value=0.0, description='Downloading', max=1038.0, style=ProgressStyle(description…"
            ]
          },
          "metadata": {
            "tags": []
          }
        },
        {
          "output_type": "stream",
          "text": [
            "\n"
          ],
          "name": "stdout"
        },
        {
          "output_type": "display_data",
          "data": {
            "application/vnd.jupyter.widget-view+json": {
              "model_id": "e273519ce039476290b1417966c65716",
              "version_minor": 0,
              "version_major": 2
            },
            "text/plain": [
              "HBox(children=(FloatProgress(value=0.0, description='Downloading', max=995526.0, style=ProgressStyle(descripti…"
            ]
          },
          "metadata": {
            "tags": []
          }
        },
        {
          "output_type": "stream",
          "text": [
            "\n"
          ],
          "name": "stdout"
        },
        {
          "output_type": "display_data",
          "data": {
            "application/vnd.jupyter.widget-view+json": {
              "model_id": "897cc68500b14c199e9fd17bd679e778",
              "version_minor": 0,
              "version_major": 2
            },
            "text/plain": [
              "HBox(children=(FloatProgress(value=0.0, description='Downloading', max=59.0, style=ProgressStyle(description_w…"
            ]
          },
          "metadata": {
            "tags": []
          }
        },
        {
          "output_type": "stream",
          "text": [
            "\n"
          ],
          "name": "stdout"
        }
      ]
    },
    {
      "cell_type": "code",
      "metadata": {
        "colab": {
          "base_uri": "https://localhost:8080/",
          "height": 195
        },
        "id": "OHZ0Bmq2o_6O",
        "outputId": "83ee6230-cddd-4201-bfb3-44fcfd399545"
      },
      "source": [
        "data = pd.read_csv('training-v2-2019-06-23T00_12_36.644Z.csv', names = ['description','label'])\n",
        "data.head()"
      ],
      "execution_count": 5,
      "outputs": [
        {
          "output_type": "execute_result",
          "data": {
            "text/html": [
              "<div>\n",
              "<style scoped>\n",
              "    .dataframe tbody tr th:only-of-type {\n",
              "        vertical-align: middle;\n",
              "    }\n",
              "\n",
              "    .dataframe tbody tr th {\n",
              "        vertical-align: top;\n",
              "    }\n",
              "\n",
              "    .dataframe thead th {\n",
              "        text-align: right;\n",
              "    }\n",
              "</style>\n",
              "<table border=\"1\" class=\"dataframe\">\n",
              "  <thead>\n",
              "    <tr style=\"text-align: right;\">\n",
              "      <th></th>\n",
              "      <th>description</th>\n",
              "      <th>label</th>\n",
              "    </tr>\n",
              "  </thead>\n",
              "  <tbody>\n",
              "    <tr>\n",
              "      <th>0</th>\n",
              "      <td>440 en un nivel y 800 en otro nivel.\\n\\nse pue...</td>\n",
              "      <td>bad</td>\n",
              "    </tr>\n",
              "    <tr>\n",
              "      <th>1</th>\n",
              "      <td>90-5414 Casa bifamiliar dos niveles,  3 alcoba...</td>\n",
              "      <td>bad</td>\n",
              "    </tr>\n",
              "    <tr>\n",
              "      <th>2</th>\n",
              "      <td>90-54779 Excelente apartamento, en el exclusiv...</td>\n",
              "      <td>bad</td>\n",
              "    </tr>\n",
              "    <tr>\n",
              "      <th>3</th>\n",
              "      <td>Área: 5.000 Metros Totalmente Planos\\n\\nÁrea C...</td>\n",
              "      <td>good</td>\n",
              "    </tr>\n",
              "    <tr>\n",
              "      <th>4</th>\n",
              "      <td>Proyecto de apartamentos  de 1, 2 y 3 alcobas,...</td>\n",
              "      <td>good</td>\n",
              "    </tr>\n",
              "  </tbody>\n",
              "</table>\n",
              "</div>"
            ],
            "text/plain": [
              "                                         description label\n",
              "0  440 en un nivel y 800 en otro nivel.\\n\\nse pue...   bad\n",
              "1  90-5414 Casa bifamiliar dos niveles,  3 alcoba...   bad\n",
              "2  90-54779 Excelente apartamento, en el exclusiv...   bad\n",
              "3  Área: 5.000 Metros Totalmente Planos\\n\\nÁrea C...  good\n",
              "4  Proyecto de apartamentos  de 1, 2 y 3 alcobas,...  good"
            ]
          },
          "metadata": {
            "tags": []
          },
          "execution_count": 5
        }
      ]
    },
    {
      "cell_type": "code",
      "metadata": {
        "id": "N6D0ZNyKpNt0"
      },
      "source": [
        "def clean_data(df):\n",
        "    lines = df.description.values\n",
        "    clean_lines = []\n",
        "    for line in lines:\n",
        "        line = line.replace('\\n\\n', ' ').replace('\\n', '').lower()\n",
        "        line = re.sub('(mt2|m2|mts2|mtrs|m²|mtr2|mtrs2|mtr|metros|metros2|metro2|mtsrs)','mts', line)\n",
        "        line = re.sub(\"([0-9]+)([a-z]+)\", \"\\g<1> \\g<2>\", line)\n",
        "        line = re.sub(\"([a-z]+)([0-9]+)\", \"\\g<1> \\g<2>\", line)\n",
        "        line = re.sub(\"\\$ ?[0-9\\.,]+\", \"MONEYAMNT\", line)\n",
        "        line = re.sub(\"[0-9]{1,3}.\", \"SHORTINT \", line)\n",
        "        line = re.sub('['+string.punctuation+'¡'+']', ' ',line)\n",
        "        line = line.replace('  ', ' ')\n",
        "        clean_lines.append(line)\n",
        "    df.description = np.array(clean_lines)\n",
        "    df.label = df.label.map(lambda x: 1 if x=='good' else 0).values\n",
        "    return df"
      ],
      "execution_count": 6,
      "outputs": []
    },
    {
      "cell_type": "code",
      "metadata": {
        "colab": {
          "base_uri": "https://localhost:8080/",
          "height": 195
        },
        "id": "k7SF5NxHpPX2",
        "outputId": "0e59d05e-7e65-4c6e-eaf0-51401908c5ff"
      },
      "source": [
        "data = clean_data(data)\n",
        "data.head()"
      ],
      "execution_count": 7,
      "outputs": [
        {
          "output_type": "execute_result",
          "data": {
            "text/html": [
              "<div>\n",
              "<style scoped>\n",
              "    .dataframe tbody tr th:only-of-type {\n",
              "        vertical-align: middle;\n",
              "    }\n",
              "\n",
              "    .dataframe tbody tr th {\n",
              "        vertical-align: top;\n",
              "    }\n",
              "\n",
              "    .dataframe thead th {\n",
              "        text-align: right;\n",
              "    }\n",
              "</style>\n",
              "<table border=\"1\" class=\"dataframe\">\n",
              "  <thead>\n",
              "    <tr style=\"text-align: right;\">\n",
              "      <th></th>\n",
              "      <th>description</th>\n",
              "      <th>label</th>\n",
              "    </tr>\n",
              "  </thead>\n",
              "  <tbody>\n",
              "    <tr>\n",
              "      <th>0</th>\n",
              "      <td>SHORTINT en un nivel y SHORTINT en otro nivel ...</td>\n",
              "      <td>0</td>\n",
              "    </tr>\n",
              "    <tr>\n",
              "      <th>1</th>\n",
              "      <td>SHORTINT SHORTINT casa bifamiliar dos niveles ...</td>\n",
              "      <td>0</td>\n",
              "    </tr>\n",
              "    <tr>\n",
              "      <th>2</th>\n",
              "      <td>SHORTINT SHORTINT SHORTINT excelente apartamen...</td>\n",
              "      <td>0</td>\n",
              "    </tr>\n",
              "    <tr>\n",
              "      <th>3</th>\n",
              "      <td>área SHORTINT SHORTINT mts totalmente planos á...</td>\n",
              "      <td>1</td>\n",
              "    </tr>\n",
              "    <tr>\n",
              "      <th>4</th>\n",
              "      <td>proyecto de apartamentos de SHORTINT SHORTINT ...</td>\n",
              "      <td>1</td>\n",
              "    </tr>\n",
              "  </tbody>\n",
              "</table>\n",
              "</div>"
            ],
            "text/plain": [
              "                                         description  label\n",
              "0  SHORTINT en un nivel y SHORTINT en otro nivel ...      0\n",
              "1  SHORTINT SHORTINT casa bifamiliar dos niveles ...      0\n",
              "2  SHORTINT SHORTINT SHORTINT excelente apartamen...      0\n",
              "3  área SHORTINT SHORTINT mts totalmente planos á...      1\n",
              "4  proyecto de apartamentos de SHORTINT SHORTINT ...      1"
            ]
          },
          "metadata": {
            "tags": []
          },
          "execution_count": 7
        }
      ]
    },
    {
      "cell_type": "code",
      "metadata": {
        "colab": {
          "base_uri": "https://localhost:8080/",
          "height": 265
        },
        "id": "6qYFxm12pR8a",
        "outputId": "6a6dad2f-7b87-408c-8830-0d555786e713"
      },
      "source": [
        "import matplotlib.pyplot as plt\n",
        "\n",
        "line_len = [len(line.split()) for line in data.description.values] # number of words in each description\n",
        "# distribution of words counts of each description\n",
        "fig, ax = plt.subplots(figsize=(5,4)) \n",
        "ax.hist(line_len)\n",
        "plt.show()"
      ],
      "execution_count": 8,
      "outputs": [
        {
          "output_type": "display_data",
          "data": {
            "image/png": "[encoded data removed]",
            "text/plain": [
              "<Figure size 360x288 with 1 Axes>"
            ]
          },
          "metadata": {
            "tags": [],
            "needs_background": "light"
          }
        }
      ]
    },
    {
      "cell_type": "code",
      "metadata": {
        "colab": {
          "base_uri": "https://localhost:8080/"
        },
        "id": "B6OWoybzpVkO",
        "outputId": "72229ccb-7764-4e17-e353-12b24521cd6b"
      },
      "source": [
        "np.percentile(line_len, 95) # 95% of descriptions have less than 127 words, so I set max_length=120"
      ],
      "execution_count": 9,
      "outputs": [
        {
          "output_type": "execute_result",
          "data": {
            "text/plain": [
              "127.0"
            ]
          },
          "metadata": {
            "tags": []
          },
          "execution_count": 9
        }
      ]
    },
    {
      "cell_type": "code",
      "metadata": {
        "id": "HfYiCpAkpX0L"
      },
      "source": [
        "Xids = np.zeros((len(data), 120)) \n",
        "Xmask = np.zeros((len(data), 120))"
      ],
      "execution_count": 10,
      "outputs": []
    },
    {
      "cell_type": "code",
      "metadata": {
        "id": "a7x1-IHQpbVD"
      },
      "source": [
        "for i, sequence in enumerate(data.description):\n",
        "    tokens = tokenizer.encode_plus(sequence, max_length=120, \n",
        "                               truncation=True, padding=\"max_length\", \n",
        "                               add_special_tokens=True, return_token_type_ids=False,\n",
        "                               return_attention_mask=True, return_tensors='tf')\n",
        "    Xids[i, :], Xmask[i, :] = tokens['input_ids'], tokens['attention_mask']"
      ],
      "execution_count": 11,
      "outputs": []
    },
    {
      "cell_type": "code",
      "metadata": {
        "id": "T_ddgN-bpcIH"
      },
      "source": [
        "label = data.label.values.reshape(-1,1) "
      ],
      "execution_count": 12,
      "outputs": []
    },
    {
      "cell_type": "code",
      "metadata": {
        "id": "nSrgV5YMpe4n"
      },
      "source": [
        "dataset = tf.data.Dataset.from_tensor_slices((Xids, Xmask, label))"
      ],
      "execution_count": 13,
      "outputs": []
    },
    {
      "cell_type": "code",
      "metadata": {
        "id": "i0cA8D1zpldY"
      },
      "source": [
        "def map_func(input_ids, masks, label):\n",
        "    for i in range(len(input_ids)):\n",
        "        return {'input_ids':input_ids, 'attention_mask':masks}, label"
      ],
      "execution_count": 14,
      "outputs": []
    },
    {
      "cell_type": "code",
      "metadata": {
        "id": "-NLmC5rzpn7i"
      },
      "source": [
        "ds = dataset.map(map_func)"
      ],
      "execution_count": 15,
      "outputs": []
    },
    {
      "cell_type": "code",
      "metadata": {
        "colab": {
          "base_uri": "https://localhost:8080/"
        },
        "id": "obzNQSQeppLZ",
        "outputId": "769e89dd-8b17-4a06-b9eb-e8c6320b9374"
      },
      "source": [
        "for i in ds.take(1):\n",
        "    print(i)"
      ],
      "execution_count": 16,
      "outputs": [
        {
          "output_type": "stream",
          "text": [
            "({'input_ids': <tf.Tensor: shape=(120,), dtype=float64, numpy=\n",
            "array([  101., 38702., 42622., 72286., 77261., 10110., 10119., 16398.,\n",
            "         193., 38702., 42622., 72286., 77261., 10110., 16694., 16398.,\n",
            "       10126., 12994., 26518., 10125., 38702., 42622., 72286., 77261.,\n",
            "       10127., 19826., 10112., 23224., 25585., 18430.,   193., 15924.,\n",
            "       19172., 10381., 11168., 10127., 19826., 10112., 38702., 42622.,\n",
            "       72286., 77261.,   181., 10806.,   102.,     0.,     0.,     0.,\n",
            "           0.,     0.,     0.,     0.,     0.,     0.,     0.,     0.,\n",
            "           0.,     0.,     0.,     0.,     0.,     0.,     0.,     0.,\n",
            "           0.,     0.,     0.,     0.,     0.,     0.,     0.,     0.,\n",
            "           0.,     0.,     0.,     0.,     0.,     0.,     0.,     0.,\n",
            "           0.,     0.,     0.,     0.,     0.,     0.,     0.,     0.,\n",
            "           0.,     0.,     0.,     0.,     0.,     0.,     0.,     0.,\n",
            "           0.,     0.,     0.,     0.,     0.,     0.,     0.,     0.,\n",
            "           0.,     0.,     0.,     0.,     0.,     0.,     0.,     0.,\n",
            "           0.,     0.,     0.,     0.,     0.,     0.,     0.,     0.])>, 'attention_mask': <tf.Tensor: shape=(120,), dtype=float64, numpy=\n",
            "array([1., 1., 1., 1., 1., 1., 1., 1., 1., 1., 1., 1., 1., 1., 1., 1., 1.,\n",
            "       1., 1., 1., 1., 1., 1., 1., 1., 1., 1., 1., 1., 1., 1., 1., 1., 1.,\n",
            "       1., 1., 1., 1., 1., 1., 1., 1., 1., 1., 1., 0., 0., 0., 0., 0., 0.,\n",
            "       0., 0., 0., 0., 0., 0., 0., 0., 0., 0., 0., 0., 0., 0., 0., 0., 0.,\n",
            "       0., 0., 0., 0., 0., 0., 0., 0., 0., 0., 0., 0., 0., 0., 0., 0., 0.,\n",
            "       0., 0., 0., 0., 0., 0., 0., 0., 0., 0., 0., 0., 0., 0., 0., 0., 0.,\n",
            "       0., 0., 0., 0., 0., 0., 0., 0., 0., 0., 0., 0., 0., 0., 0., 0., 0.,\n",
            "       0.])>}, <tf.Tensor: shape=(1,), dtype=int64, numpy=array([0])>)\n"
          ],
          "name": "stdout"
        }
      ]
    },
    {
      "cell_type": "code",
      "metadata": {
        "id": "Bo4x17k6prBv"
      },
      "source": [
        "# get train and valid set\n",
        "shuf_data = ds.shuffle(10000).batch(32) \n",
        "ds_len = len(shuf_data)\n",
        "split = .8\n",
        "train = shuf_data.take(round(ds_len * split))\n",
        "valid = shuf_data.skip(round(ds_len * split))"
      ],
      "execution_count": 17,
      "outputs": []
    },
    {
      "cell_type": "code",
      "metadata": {
        "colab": {
          "base_uri": "https://localhost:8080/",
          "height": 170,
          "referenced_widgets": [
            "3ab8056960384eddaa32aba71b3d692d",
            "bd1d4b364b7d4e2b8ba98537bfc80893",
            "94025da384b54d58859224a278e163bc",
            "0b8d318ea32f4390a3a78e975a39cc06",
            "92b44cb79f08428b993254e4f1907951",
            "c8798eb8fbba4d9c9304c19310b6b8c4",
            "d9e74e5b0afa444496a55be393c20313",
            "3ce9424105f9465585b66a9ac0c21d38"
          ]
        },
        "id": "OongJpl3pwS5",
        "outputId": "9754a210-7691-4275-8775-82485cc8617e"
      },
      "source": [
        "bert = TFAutoModel.from_pretrained(\"dbmdz/bert-base-multilingual-cased-finetuned-conll03-spanish\")"
      ],
      "execution_count": 18,
      "outputs": [
        {
          "output_type": "display_data",
          "data": {
            "application/vnd.jupyter.widget-view+json": {
              "model_id": "3ab8056960384eddaa32aba71b3d692d",
              "version_minor": 0,
              "version_major": 2
            },
            "text/plain": [
              "HBox(children=(FloatProgress(value=0.0, description='Downloading', max=1083389348.0, style=ProgressStyle(descr…"
            ]
          },
          "metadata": {
            "tags": []
          }
        },
        {
          "output_type": "stream",
          "text": [
            "\n"
          ],
          "name": "stdout"
        },
        {
          "output_type": "stream",
          "text": [
            "Some layers from the model checkpoint at dbmdz/bert-base-multilingual-cased-finetuned-conll03-spanish were not used when initializing TFBertModel: ['mlm___cls', 'nsp___cls']\n",
            "- This IS expected if you are initializing TFBertModel from the checkpoint of a model trained on another task or with another architecture (e.g. initializing a BertForSequenceClassification model from a BertForPreTraining model).\n",
            "- This IS NOT expected if you are initializing TFBertModel from the checkpoint of a model that you expect to be exactly identical (initializing a BertForSequenceClassification model from a BertForSequenceClassification model).\n",
            "All the layers of TFBertModel were initialized from the model checkpoint at dbmdz/bert-base-multilingual-cased-finetuned-conll03-spanish.\n",
            "If your task is similar to the task the model of the checkpoint was trained on, you can already use TFBertModel for predictions without further training.\n"
          ],
          "name": "stderr"
        }
      ]
    },
    {
      "cell_type": "code",
      "metadata": {
        "colab": {
          "base_uri": "https://localhost:8080/"
        },
        "id": "ovgM9Afgp5yl",
        "outputId": "64cd0b52-367b-41aa-9615-315fc3562357"
      },
      "source": [
        "input_ids = tf.keras.layers.Input(shape=(120,), name='input_ids', dtype='int32')\n",
        "mask = tf.keras.layers.Input(shape=(120,), name='attention_mask', dtype='int32')\n",
        "\n",
        "embeddings = bert(input_ids, attention_mask=mask)[0]\n",
        "\n",
        "X = tf.keras.layers.GlobalMaxPool1D()(embeddings)\n",
        "X = tf.keras.layers.BatchNormalization()(X)\n",
        "X = tf.keras.layers.Dense(128, activation='relu')(X)\n",
        "X = tf.keras.layers.Dropout(0.1)(X)\n",
        "X = tf.keras.layers.Dense(32, activation='relu')(X)\n",
        "y = tf.keras.layers.Dense(1, activation='sigmoid', name='outputs')(X)\n",
        "\n",
        "model = tf.keras.Model(inputs=[input_ids, mask], outputs=y)\n",
        "\n",
        "model.layers[2].trainable = False # freeze f.keras.layers.Dense(128, activation='relu')(X) to reduce trainable parameters"
      ],
      "execution_count": 30,
      "outputs": [
        {
          "output_type": "stream",
          "text": [
            "WARNING:tensorflow:The parameters `output_attentions`, `output_hidden_states` and `use_cache` cannot be updated when calling a model.They have to be set to True/False in the config object (i.e.: `config=XConfig.from_pretrained('name', output_attentions=True)`).\n",
            "WARNING:tensorflow:The parameter `return_dict` cannot be set in graph mode and will always be set to `True`.\n"
          ],
          "name": "stdout"
        }
      ]
    },
    {
      "cell_type": "code",
      "metadata": {
        "colab": {
          "base_uri": "https://localhost:8080/"
        },
        "id": "0C2oUqRKqOtI",
        "outputId": "bd4fb1a5-99cb-4d96-c687-bfb7021eef77"
      },
      "source": [
        "model.summary()"
      ],
      "execution_count": 31,
      "outputs": [
        {
          "output_type": "stream",
          "text": [
            "Model: \"model_1\"\n",
            "__________________________________________________________________________________________________\n",
            "Layer (type)                    Output Shape         Param #     Connected to                     \n",
            "==================================================================================================\n",
            "input_ids (InputLayer)          [(None, 120)]        0                                            \n",
            "__________________________________________________________________________________________________\n",
            "attention_mask (InputLayer)     [(None, 120)]        0                                            \n",
            "__________________________________________________________________________________________________\n",
            "tf_bert_model (TFBertModel)     TFBaseModelOutputWit 177853440   input_ids[0][0]                  \n",
            "                                                                 attention_mask[0][0]             \n",
            "__________________________________________________________________________________________________\n",
            "global_max_pooling1d_1 (GlobalM (None, 768)          0           tf_bert_model[1][0]              \n",
            "__________________________________________________________________________________________________\n",
            "batch_normalization_1 (BatchNor (None, 768)          3072        global_max_pooling1d_1[0][0]     \n",
            "__________________________________________________________________________________________________\n",
            "dense_1 (Dense)                 (None, 128)          98432       batch_normalization_1[0][0]      \n",
            "__________________________________________________________________________________________________\n",
            "dropout_38 (Dropout)            (None, 128)          0           dense_1[0][0]                    \n",
            "__________________________________________________________________________________________________\n",
            "dense_2 (Dense)                 (None, 32)           4128        dropout_38[0][0]                 \n",
            "__________________________________________________________________________________________________\n",
            "outputs (Dense)                 (None, 1)            33          dense_2[0][0]                    \n",
            "==================================================================================================\n",
            "Total params: 177,959,105\n",
            "Trainable params: 104,129\n",
            "Non-trainable params: 177,854,976\n",
            "__________________________________________________________________________________________________\n"
          ],
          "name": "stdout"
        }
      ]
    },
    {
      "cell_type": "code",
      "metadata": {
        "id": "g3TDf86Lqqg6"
      },
      "source": [
        "optimizer = tf.keras.optimizers.Adam(0.001)\n",
        "loss = tf.keras.losses.BinaryCrossentropy()\n",
        "accuracy = tf.keras.metrics.BinaryAccuracy('accuracy')\n",
        "\n",
        "model.compile(optimizer=optimizer, loss=loss, metrics=[accuracy])"
      ],
      "execution_count": 32,
      "outputs": []
    },
    {
      "cell_type": "code",
      "metadata": {
        "colab": {
          "base_uri": "https://localhost:8080/"
        },
        "id": "Aqs3_-xwrz8e",
        "outputId": "6652b6de-1e3f-4378-8b57-55cba5e86db0"
      },
      "source": [
        "history = model.fit(train, validation_data=valid, epochs=30)"
      ],
      "execution_count": 33,
      "outputs": [
        {
          "output_type": "stream",
          "text": [
            "Epoch 1/30\n",
            "WARNING:tensorflow:The parameters `output_attentions`, `output_hidden_states` and `use_cache` cannot be updated when calling a model.They have to be set to True/False in the config object (i.e.: `config=XConfig.from_pretrained('name', output_attentions=True)`).\n",
            "WARNING:tensorflow:The parameter `return_dict` cannot be set in graph mode and will always be set to `True`.\n",
            "WARNING:tensorflow:The parameters `output_attentions`, `output_hidden_states` and `use_cache` cannot be updated when calling a model.They have to be set to True/False in the config object (i.e.: `config=XConfig.from_pretrained('name', output_attentions=True)`).\n",
            "WARNING:tensorflow:The parameter `return_dict` cannot be set in graph mode and will always be set to `True`.\n",
            "44/44 [==============================] - ETA: 0s - loss: 0.6094 - accuracy: 0.6674WARNING:tensorflow:The parameters `output_attentions`, `output_hidden_states` and `use_cache` cannot be updated when calling a model.They have to be set to True/False in the config object (i.e.: `config=XConfig.from_pretrained('name', output_attentions=True)`).\n",
            "WARNING:tensorflow:The parameter `return_dict` cannot be set in graph mode and will always be set to `True`.\n",
            "44/44 [==============================] - 27s 283ms/step - loss: 0.6078 - accuracy: 0.6687 - val_loss: 1.1223 - val_accuracy: 0.5736\n",
            "Epoch 2/30\n",
            "44/44 [==============================] - 9s 210ms/step - loss: 0.4796 - accuracy: 0.7892 - val_loss: 0.7172 - val_accuracy: 0.6607\n",
            "Epoch 3/30\n",
            "44/44 [==============================] - 9s 210ms/step - loss: 0.4064 - accuracy: 0.8176 - val_loss: 0.7141 - val_accuracy: 0.6577\n",
            "Epoch 4/30\n",
            "44/44 [==============================] - 9s 210ms/step - loss: 0.4033 - accuracy: 0.8352 - val_loss: 0.3958 - val_accuracy: 0.8438\n",
            "Epoch 5/30\n",
            "44/44 [==============================] - 9s 210ms/step - loss: 0.3676 - accuracy: 0.8401 - val_loss: 0.4349 - val_accuracy: 0.8108\n",
            "Epoch 6/30\n",
            "44/44 [==============================] - 9s 212ms/step - loss: 0.3258 - accuracy: 0.8644 - val_loss: 0.3793 - val_accuracy: 0.8378\n",
            "Epoch 7/30\n",
            "44/44 [==============================] - 9s 210ms/step - loss: 0.3221 - accuracy: 0.8667 - val_loss: 0.3224 - val_accuracy: 0.8649\n",
            "Epoch 8/30\n",
            "44/44 [==============================] - 9s 210ms/step - loss: 0.3322 - accuracy: 0.8695 - val_loss: 0.3727 - val_accuracy: 0.8288\n",
            "Epoch 9/30\n",
            "44/44 [==============================] - 9s 210ms/step - loss: 0.3420 - accuracy: 0.8437 - val_loss: 0.2925 - val_accuracy: 0.8709\n",
            "Epoch 10/30\n",
            "44/44 [==============================] - 9s 210ms/step - loss: 0.2923 - accuracy: 0.8890 - val_loss: 0.2714 - val_accuracy: 0.8799\n",
            "Epoch 11/30\n",
            "44/44 [==============================] - 9s 211ms/step - loss: 0.3183 - accuracy: 0.8789 - val_loss: 0.2378 - val_accuracy: 0.9039\n",
            "Epoch 12/30\n",
            "44/44 [==============================] - 9s 210ms/step - loss: 0.3278 - accuracy: 0.8688 - val_loss: 0.4018 - val_accuracy: 0.8378\n",
            "Epoch 13/30\n",
            "44/44 [==============================] - 9s 210ms/step - loss: 0.3150 - accuracy: 0.8645 - val_loss: 0.3278 - val_accuracy: 0.8739\n",
            "Epoch 14/30\n",
            "44/44 [==============================] - 9s 210ms/step - loss: 0.2801 - accuracy: 0.8748 - val_loss: 0.4081 - val_accuracy: 0.8318\n",
            "Epoch 15/30\n",
            "44/44 [==============================] - 9s 210ms/step - loss: 0.3088 - accuracy: 0.8771 - val_loss: 0.2661 - val_accuracy: 0.8919\n",
            "Epoch 16/30\n",
            "44/44 [==============================] - 9s 210ms/step - loss: 0.2953 - accuracy: 0.8858 - val_loss: 0.2653 - val_accuracy: 0.9009\n",
            "Epoch 17/30\n",
            "44/44 [==============================] - 9s 211ms/step - loss: 0.3073 - accuracy: 0.8789 - val_loss: 0.2817 - val_accuracy: 0.8949\n",
            "Epoch 18/30\n",
            "44/44 [==============================] - 9s 210ms/step - loss: 0.2680 - accuracy: 0.8880 - val_loss: 0.2654 - val_accuracy: 0.9099\n",
            "Epoch 19/30\n",
            "44/44 [==============================] - 9s 210ms/step - loss: 0.2785 - accuracy: 0.8840 - val_loss: 0.2468 - val_accuracy: 0.9099\n",
            "Epoch 20/30\n",
            "44/44 [==============================] - 9s 210ms/step - loss: 0.2420 - accuracy: 0.9029 - val_loss: 0.1836 - val_accuracy: 0.9399\n",
            "Epoch 21/30\n",
            "44/44 [==============================] - 9s 210ms/step - loss: 0.2732 - accuracy: 0.8875 - val_loss: 0.2867 - val_accuracy: 0.8859\n",
            "Epoch 22/30\n",
            "44/44 [==============================] - 9s 210ms/step - loss: 0.2927 - accuracy: 0.8869 - val_loss: 0.2525 - val_accuracy: 0.8889\n",
            "Epoch 23/30\n",
            "44/44 [==============================] - 9s 210ms/step - loss: 0.2755 - accuracy: 0.8780 - val_loss: 0.2188 - val_accuracy: 0.9129\n",
            "Epoch 24/30\n",
            "44/44 [==============================] - 9s 210ms/step - loss: 0.2729 - accuracy: 0.8820 - val_loss: 0.2028 - val_accuracy: 0.9339\n",
            "Epoch 25/30\n",
            "44/44 [==============================] - 9s 209ms/step - loss: 0.2675 - accuracy: 0.8879 - val_loss: 0.3299 - val_accuracy: 0.8709\n",
            "Epoch 26/30\n",
            "44/44 [==============================] - 9s 210ms/step - loss: 0.2488 - accuracy: 0.9056 - val_loss: 0.3132 - val_accuracy: 0.8859\n",
            "Epoch 27/30\n",
            "44/44 [==============================] - 9s 210ms/step - loss: 0.2499 - accuracy: 0.9107 - val_loss: 0.3010 - val_accuracy: 0.8799\n",
            "Epoch 28/30\n",
            "44/44 [==============================] - 9s 211ms/step - loss: 0.2446 - accuracy: 0.9033 - val_loss: 0.2658 - val_accuracy: 0.9009\n",
            "Epoch 29/30\n",
            "44/44 [==============================] - 9s 211ms/step - loss: 0.2217 - accuracy: 0.9139 - val_loss: 0.1799 - val_accuracy: 0.9219\n",
            "Epoch 30/30\n",
            "44/44 [==============================] - 9s 211ms/step - loss: 0.2226 - accuracy: 0.9091 - val_loss: 0.1896 - val_accuracy: 0.9339\n"
          ],
          "name": "stdout"
        }
      ]
    },
    {
      "cell_type": "code",
      "metadata": {
        "id": "GuOk77eTr2iw"
      },
      "source": [
        ""
      ],
      "execution_count": null,
      "outputs": []
    }
  ]
}